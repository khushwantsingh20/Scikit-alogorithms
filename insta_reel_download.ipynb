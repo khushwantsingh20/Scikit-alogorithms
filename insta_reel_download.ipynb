{
  "nbformat": 4,
  "nbformat_minor": 0,
  "metadata": {
    "colab": {
      "provenance": [],
      "authorship_tag": "ABX9TyNuwsoy3hd+35cLFsyQ2UCl",
      "include_colab_link": true
    },
    "kernelspec": {
      "name": "python3",
      "display_name": "Python 3"
    },
    "language_info": {
      "name": "python"
    }
  },
  "cells": [
    {
      "cell_type": "markdown",
      "metadata": {
        "id": "view-in-github",
        "colab_type": "text"
      },
      "source": [
        "<a href=\"https://colab.research.google.com/github/khushwantsingh20/Scikit-alogorithms/blob/main/insta_reel_download.ipynb\" target=\"_parent\"><img src=\"https://colab.research.google.com/assets/colab-badge.svg\" alt=\"Open In Colab\"/></a>"
      ]
    },
    {
      "cell_type": "code",
      "execution_count": null,
      "metadata": {
        "colab": {
          "base_uri": "https://localhost:8080/"
        },
        "id": "Xe01zxfAFJ_G",
        "outputId": "fddd8a4d-f3aa-40e0-ba33-c5b53439646f"
      },
      "outputs": [
        {
          "output_type": "stream",
          "name": "stdout",
          "text": [
            "Collecting instaloader\n",
            "  Downloading instaloader-4.14.1-py3-none-any.whl.metadata (6.7 kB)\n",
            "Requirement already satisfied: requests>=2.25 in /usr/local/lib/python3.11/dist-packages (from instaloader) (2.32.3)\n",
            "Requirement already satisfied: charset-normalizer<4,>=2 in /usr/local/lib/python3.11/dist-packages (from requests>=2.25->instaloader) (3.4.1)\n",
            "Requirement already satisfied: idna<4,>=2.5 in /usr/local/lib/python3.11/dist-packages (from requests>=2.25->instaloader) (3.10)\n",
            "Requirement already satisfied: urllib3<3,>=1.21.1 in /usr/local/lib/python3.11/dist-packages (from requests>=2.25->instaloader) (2.3.0)\n",
            "Requirement already satisfied: certifi>=2017.4.17 in /usr/local/lib/python3.11/dist-packages (from requests>=2.25->instaloader) (2025.1.31)\n",
            "Downloading instaloader-4.14.1-py3-none-any.whl (67 kB)\n",
            "\u001b[2K   \u001b[90m━━━━━━━━━━━━━━━━━━━━━━━━━━━━━━━━━━━━━━━━\u001b[0m \u001b[32m67.9/67.9 kB\u001b[0m \u001b[31m2.1 MB/s\u001b[0m eta \u001b[36m0:00:00\u001b[0m\n",
            "\u001b[?25hInstalling collected packages: instaloader\n",
            "Successfully installed instaloader-4.14.1\n"
          ]
        }
      ],
      "source": [
        "pip install instaloader\n"
      ]
    },
    {
      "cell_type": "code",
      "source": [
        "import instaloader\n",
        "import re\n",
        "\n",
        "def download_instagram_reel(url):\n",
        "    try:\n",
        "        loader = instaloader.Instaloader()\n",
        "\n",
        "        # Extract shortcode from URL\n",
        "        match = re.search(r\"instagram.com/reel/([a-zA-Z0-9_-]+)\", url)\n",
        "        if not match:\n",
        "            print(\"Invalid Instagram reel URL.\")\n",
        "            return\n",
        "\n",
        "        shortcode = match.group(1)\n",
        "\n",
        "        # Download the reel\n",
        "        loader.download_post(instaloader.Post.from_shortcode(loader.context, shortcode), target=\"Instagram_Reels\")\n",
        "        print(\"Download completed successfully.\")\n",
        "\n",
        "    except Exception as e:\n",
        "        print(f\"Error: {e}\")\n",
        "\n",
        "# Example Usage\n",
        "reel_url = input(\"Enter Instagram Reel URL: \")\n",
        "download_instagram_reel(reel_url)\n"
      ],
      "metadata": {
        "colab": {
          "base_uri": "https://localhost:8080/"
        },
        "id": "q3OXtsrJFLQJ",
        "outputId": "2e5d9cdd-90f9-4b57-cf4f-086d1309e195"
      },
      "execution_count": null,
      "outputs": [
        {
          "output_type": "stream",
          "name": "stdout",
          "text": [
            "Enter Instagram Reel URL: https://www.instagram.com/reel/DGlGE0noaix/?utm_source=ig_web_copy_link\n",
            "Instagram_Reels/2025-02-27_14-28-42_UTC.jpg [If only switching jobs was as…] Instagram_Reels/2025-02-27_14-28-42_UTC.mp4 json \n",
            "Download completed successfully.\n"
          ]
        }
      ]
    },
    {
      "cell_type": "code",
      "source": [],
      "metadata": {
        "id": "Zd1nTxwuFtfg"
      },
      "execution_count": null,
      "outputs": []
    }
  ]
}